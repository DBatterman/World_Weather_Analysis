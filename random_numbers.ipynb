{
 "cells": [
  {
   "cell_type": "code",
   "execution_count": 1,
   "id": "462a6c35",
   "metadata": {},
   "outputs": [],
   "source": [
    "# Import the random module.\n",
    "import random"
   ]
  },
  {
   "cell_type": "code",
   "execution_count": 3,
   "id": "9265e3a3",
   "metadata": {},
   "outputs": [
    {
     "data": {
      "text/plain": [
       "59"
      ]
     },
     "execution_count": 3,
     "metadata": {},
     "output_type": "execute_result"
    }
   ],
   "source": [
    "random.randint(-90, 90)"
   ]
  },
  {
   "cell_type": "code",
   "execution_count": 4,
   "id": "aea93a59",
   "metadata": {},
   "outputs": [
    {
     "data": {
      "text/plain": [
       "0.2690484191304554"
      ]
     },
     "execution_count": 4,
     "metadata": {},
     "output_type": "execute_result"
    }
   ],
   "source": [
    "random.random()"
   ]
  },
  {
   "cell_type": "code",
   "execution_count": 5,
   "id": "e2c510c6",
   "metadata": {},
   "outputs": [],
   "source": [
    "x = 1\n",
    "latitudes = []\n",
    "while x < 11:\n",
    "    random_lat = random.randint(-90, 89) + random.random()\n",
    "    latitudes.append(random_lat)\n",
    "    x += 1"
   ]
  },
  {
   "cell_type": "code",
   "execution_count": 6,
   "id": "dd155954",
   "metadata": {},
   "outputs": [
    {
     "data": {
      "text/plain": [
       "[-14.085938795089277,\n",
       " -11.419086645502222,\n",
       " 5.878079014702656,\n",
       " 40.12639872240726,\n",
       " -0.26266698799092925,\n",
       " -43.10922741417117,\n",
       " -41.02419405092779,\n",
       " 10.879046894637899,\n",
       " 66.66589984789894,\n",
       " 65.40590585925932]"
      ]
     },
     "execution_count": 6,
     "metadata": {},
     "output_type": "execute_result"
    }
   ],
   "source": [
    "latitudes"
   ]
  },
  {
   "cell_type": "code",
   "execution_count": 10,
   "id": "eb8026bc",
   "metadata": {},
   "outputs": [
    {
     "data": {
      "text/plain": [
       "-87"
      ]
     },
     "execution_count": 10,
     "metadata": {},
     "output_type": "execute_result"
    }
   ],
   "source": [
    "random.randrange(-90, 90, step=3)"
   ]
  },
  {
   "cell_type": "code",
   "execution_count": 11,
   "id": "be1eb4f1",
   "metadata": {},
   "outputs": [
    {
     "data": {
      "text/plain": [
       "-27.11099635730325"
      ]
     },
     "execution_count": 11,
     "metadata": {},
     "output_type": "execute_result"
    }
   ],
   "source": [
    "random.uniform(-90, 90)"
   ]
  },
  {
   "cell_type": "code",
   "execution_count": 12,
   "id": "ba6b4eb3",
   "metadata": {},
   "outputs": [],
   "source": [
    "# Import the NumPy module.\n",
    "import numpy as np"
   ]
  },
  {
   "cell_type": "code",
   "execution_count": 13,
   "id": "87bad08c",
   "metadata": {},
   "outputs": [
    {
     "data": {
      "text/plain": [
       "59.385466254939075"
      ]
     },
     "execution_count": 13,
     "metadata": {},
     "output_type": "execute_result"
    }
   ],
   "source": [
    "np.random.uniform(-90.000, 90.000)"
   ]
  },
  {
   "cell_type": "code",
   "execution_count": 14,
   "id": "37e179ac",
   "metadata": {},
   "outputs": [
    {
     "data": {
      "text/plain": [
       "array([ 57.82580501,  67.44155914, -36.13202617, -21.03288256,\n",
       "       -52.54653797, -48.55207038, -25.84581123, -20.22016571,\n",
       "       -14.80474748, -31.23323438, -71.2782171 , -38.40690889,\n",
       "       -63.12470514,  51.23247847,  18.80662181,   1.1412212 ,\n",
       "       -53.88053995,   1.69441539,  19.00705945,  81.2532646 ,\n",
       "        22.69965359, -56.75931943,  46.37000824, -27.51640159,\n",
       "        44.23137339,  35.52627065,  -5.64940444,   1.75849792,\n",
       "       -77.91261995,  29.0468587 , -41.06426233, -12.38370592,\n",
       "       -58.96613781,   6.60730123, -56.05618083,  34.87609836,\n",
       "       -61.5893371 , -60.95891337, -59.46073466, -64.65826156,\n",
       "        19.65955314, -79.80841926, -17.91182954,  75.7121901 ,\n",
       "        63.05330277,  65.70788031,  19.72074288, -87.43881367,\n",
       "       -26.82888519,  54.71098759])"
      ]
     },
     "execution_count": 14,
     "metadata": {},
     "output_type": "execute_result"
    }
   ],
   "source": [
    "np.random.uniform(-90.000, 90.000, size=50)"
   ]
  },
  {
   "cell_type": "code",
   "execution_count": 15,
   "id": "82d10c0f",
   "metadata": {},
   "outputs": [],
   "source": [
    "# Import timeit.\n",
    "import timeit"
   ]
  },
  {
   "cell_type": "code",
   "execution_count": 16,
   "id": "1e71f04a",
   "metadata": {},
   "outputs": [
    {
     "name": "stdout",
     "output_type": "stream",
     "text": [
      "37.3 µs ± 939 ns per loop (mean ± std. dev. of 7 runs, 10000 loops each)\n"
     ]
    }
   ],
   "source": [
    "%timeit np.random.uniform(-90.000, 90.000, size=1500)"
   ]
  },
  {
   "cell_type": "code",
   "execution_count": 17,
   "id": "89df05a3",
   "metadata": {},
   "outputs": [
    {
     "name": "stdout",
     "output_type": "stream",
     "text": [
      "4.88 ms ± 63.3 µs per loop (mean ± std. dev. of 7 runs, 100 loops each)\n"
     ]
    }
   ],
   "source": [
    "def latitudes(size):\n",
    "    latitudes = []\n",
    "    x = 0\n",
    "    while x < (size):\n",
    "        random_lat = random.randint(-90, 90) + random.random()\n",
    "        latitudes.append(random_lat)\n",
    "        x += 1\n",
    "    return latitudes\n",
    "# Call the function with 1500.\n",
    "%timeit latitudes(1500)"
   ]
  },
  {
   "cell_type": "code",
   "execution_count": 23,
   "id": "a8c3a980",
   "metadata": {},
   "outputs": [
    {
     "name": "stdout",
     "output_type": "stream",
     "text": [
      "56.6 ns ± 0.409 ns per loop (mean ± std. dev. of 7 runs, 10000000 loops each)\n"
     ]
    }
   ],
   "source": [
    "rand_list = []\n",
    "n = 1500\n",
    "for n in range(n):\n",
    "    rand_list.append((random.randint(-90,90)+random.random()))\n",
    "%timeit rand_list"
   ]
  },
  {
   "cell_type": "code",
   "execution_count": null,
   "id": "3d8ad911",
   "metadata": {},
   "outputs": [],
   "source": []
  }
 ],
 "metadata": {
  "kernelspec": {
   "display_name": "PythonData",
   "language": "python",
   "name": "pythondata"
  },
  "language_info": {
   "codemirror_mode": {
    "name": "ipython",
    "version": 3
   },
   "file_extension": ".py",
   "mimetype": "text/x-python",
   "name": "python",
   "nbconvert_exporter": "python",
   "pygments_lexer": "ipython3",
   "version": "3.7.11"
  }
 },
 "nbformat": 4,
 "nbformat_minor": 5
}
