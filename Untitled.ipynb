{
 "cells": [
  {
   "cell_type": "code",
   "execution_count": 1,
   "id": "644af4b7",
   "metadata": {},
   "outputs": [
    {
     "name": "stdout",
     "output_type": "stream",
     "text": [
      "akjdghakghadklg\n"
     ]
    }
   ],
   "source": [
    "from dotenv import load_dotenv, find_dotenv \n",
    "import os \n",
    "\n",
    "load_dotenv()\n",
    "print(os.getenv(\"Dummy_Weather_API_key\"))"
   ]
  },
  {
   "cell_type": "code",
   "execution_count": null,
   "id": "20f97f0a",
   "metadata": {},
   "outputs": [],
   "source": []
  }
 ],
 "metadata": {
  "kernelspec": {
   "display_name": "PythonData",
   "language": "python",
   "name": "pythondata"
  },
  "language_info": {
   "codemirror_mode": {
    "name": "ipython",
    "version": 3
   },
   "file_extension": ".py",
   "mimetype": "text/x-python",
   "name": "python",
   "nbconvert_exporter": "python",
   "pygments_lexer": "ipython3",
   "version": "3.7.11"
  }
 },
 "nbformat": 4,
 "nbformat_minor": 5
}
